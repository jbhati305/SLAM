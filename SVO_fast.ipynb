{
 "cells": [
  {
   "cell_type": "markdown",
   "metadata": {},
   "source": [
    "# Setup and Data loading"
   ]
  },
  {
   "cell_type": "markdown",
   "metadata": {},
   "source": [
    "First, import the necessary libraries and load the KITTI dataset:"
   ]
  },
  {
   "cell_type": "code",
   "execution_count": 1,
   "metadata": {},
   "outputs": [],
   "source": [
    "import cv2\n",
    "import numpy as np\n",
    "import matplotlib.pyplot as plt\n",
    "from scipy.spatial.transform import Rotation\n",
    "\n",
    "# Load KITTI dataset\n",
    "# will create this class later\n",
    "# from dataset_handler import Dataset_Handler\n",
    "# dataset = Dataset_Handler(sequence='00')\n"
   ]
  },
  {
   "cell_type": "markdown",
   "metadata": {},
   "source": [
    "# Sparse Image Alignment"
   ]
  },
  {
   "cell_type": "code",
   "execution_count": null,
   "metadata": {},
   "outputs": [],
   "source": [
    "def sparse_image_alignment(prev_img, curr_img, prev_kpts):\n",
    "    # Convert images to grayscale\n",
    "    prev_gray = cv2.cvtColor(prev_img, cv2.COLOR_BGR2GRAY)\n",
    "    curr_gray = cv2.cvtColor(curr_img, cv2.COLOR_BGR2GRAY)\n",
    "    \n",
    "    # Calculate optical flow\n",
    "    curr_kpts, status, _ = cv2.calcOpticalFlowPyrLK(prev_gray, curr_gray, prev_kpts, None)\n",
    "    \n",
    "    # Filter out bad points\n",
    "    good_new = curr_kpts[status == 1]\n",
    "    good_old = prev_kpts[status == 1]\n",
    "    \n",
    "    # Estimate relative pose\n",
    "    E, mask = cv2.findEssentialMat(good_new, good_old, dataset.K, cv2.RANSAC, 0.999, 1.0)\n",
    "    _, R, t, _ = cv2.recoverPose(E, good_new, good_old, dataset.K)\n",
    "    \n",
    "    return R, t, good_new\n"
   ]
  },
  {
   "cell_type": "markdown",
   "metadata": {},
   "source": [
    "# Feature Alignment"
   ]
  },
  {
   "cell_type": "code",
   "execution_count": null,
   "metadata": {},
   "outputs": [],
   "source": [
    "def feature_alignment(prev_img, curr_img, prev_kpts):\n",
    "    # Convert images to grayscale\n",
    "    prev_gray = cv2.cvtColor(prev_img, cv2.COLOR_BGR2GRAY)\n",
    "    curr_gray = cv2.cvtColor(curr_img, cv2.COLOR_BGR2GRAY)\n",
    "    \n",
    "    # Refine feature locations\n",
    "    criteria = (cv2.TERM_CRITERIA_EPS + cv2.TERM_CRITERIA_MAX_ITER, 30, 0.001)\n",
    "    refined_kpts = cv2.cornerSubPix(curr_gray, prev_kpts, (5,5), (-1,-1), criteria)\n",
    "    \n",
    "    return refined_kpts\n"
   ]
  },
  {
   "cell_type": "markdown",
   "metadata": {},
   "source": [
    "# Pose and Structure Refinement"
   ]
  },
  {
   "cell_type": "code",
   "execution_count": null,
   "metadata": {},
   "outputs": [],
   "source": [
    "def pose_structure_refinement(kpts_3d, kpts_2d, K, dist_coeffs, R, t):\n",
    "    # Use PnP to refine pose\n",
    "    _, rvec, tvec = cv2.solvePnP(kpts_3d, kpts_2d, K, dist_coeffs, rvec=cv2.Rodrigues(R)[0], tvec=t, useExtrinsicGuess=True)\n",
    "    \n",
    "    R_refined = cv2.Rodrigues(rvec)[0]\n",
    "    t_refined = tvec\n",
    "    \n",
    "    return R_refined, t_refined\n"
   ]
  },
  {
   "cell_type": "markdown",
   "metadata": {},
   "source": [
    "# Depth Filter"
   ]
  },
  {
   "cell_type": "code",
   "execution_count": null,
   "metadata": {},
   "outputs": [],
   "source": [
    "def depth_filter(prev_kpts, curr_kpts, K, baseline):\n",
    "    # Triangulate 3D points\n",
    "    points_4d = cv2.triangulatePoints(K, K, prev_kpts.T, curr_kpts.T)\n",
    "    points_3d = points_4d[:3, :] / points_4d[3, :]\n",
    "    \n",
    "    # Filter out points with negative depth or large reprojection error\n",
    "    depths = points_3d[2, :]\n",
    "    valid_mask = (depths > 0) & (depths < 100)  # Assume max depth of 100m\n",
    "    \n",
    "    return points_3d[:, valid_mask], valid_mask\n"
   ]
  }
 ],
 "metadata": {
  "kernelspec": {
   "display_name": "slam_env",
   "language": "python",
   "name": "python3"
  },
  "language_info": {
   "codemirror_mode": {
    "name": "ipython",
    "version": 3
   },
   "file_extension": ".py",
   "mimetype": "text/x-python",
   "name": "python",
   "nbconvert_exporter": "python",
   "pygments_lexer": "ipython3",
   "version": "3.12.3"
  }
 },
 "nbformat": 4,
 "nbformat_minor": 2
}
